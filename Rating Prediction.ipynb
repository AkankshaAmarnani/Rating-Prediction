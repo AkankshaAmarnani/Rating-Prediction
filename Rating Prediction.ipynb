{
 "cells": [
  {
   "cell_type": "code",
   "execution_count": 134,
   "id": "cb13619a",
   "metadata": {},
   "outputs": [],
   "source": [
    "#Let's start with importing necessary libraries\n",
    "import pandas as pd\n",
    "import numpy as np\n",
    "from sklearn.preprocessing import StandardScaler\n",
    "import matplotlib.pyplot as plt\n",
    "import seaborn as sns\n",
    "import pickle\n",
    "import warnings\n",
    "warnings.filterwarnings(\"ignore\")"
   ]
  },
  {
   "cell_type": "markdown",
   "id": "ff421b64",
   "metadata": {},
   "source": [
    "# Reading the data"
   ]
  },
  {
   "cell_type": "code",
   "execution_count": 135,
   "id": "789bc64f",
   "metadata": {},
   "outputs": [
    {
     "data": {
      "text/html": [
       "<div>\n",
       "<style scoped>\n",
       "    .dataframe tbody tr th:only-of-type {\n",
       "        vertical-align: middle;\n",
       "    }\n",
       "\n",
       "    .dataframe tbody tr th {\n",
       "        vertical-align: top;\n",
       "    }\n",
       "\n",
       "    .dataframe thead th {\n",
       "        text-align: right;\n",
       "    }\n",
       "</style>\n",
       "<table border=\"1\" class=\"dataframe\">\n",
       "  <thead>\n",
       "    <tr style=\"text-align: right;\">\n",
       "      <th></th>\n",
       "      <th>Product</th>\n",
       "      <th>Brand</th>\n",
       "      <th>Review</th>\n",
       "      <th>Rate</th>\n",
       "    </tr>\n",
       "  </thead>\n",
       "  <tbody>\n",
       "    <tr>\n",
       "      <th>0</th>\n",
       "      <td>Laptop</td>\n",
       "      <td>HP</td>\n",
       "      <td>Fast, excellent battery life, fully packed. Re...</td>\n",
       "      <td>5.0</td>\n",
       "    </tr>\n",
       "    <tr>\n",
       "      <th>1</th>\n",
       "      <td>Laptop</td>\n",
       "      <td>HP</td>\n",
       "      <td>Economical product for Student needs &amp; light w...</td>\n",
       "      <td>4.0</td>\n",
       "    </tr>\n",
       "    <tr>\n",
       "      <th>2</th>\n",
       "      <td>Laptop</td>\n",
       "      <td>HP</td>\n",
       "      <td>AFFORDABLE LAPTOP WITH GREAT PERFORMANCE</td>\n",
       "      <td>4.0</td>\n",
       "    </tr>\n",
       "    <tr>\n",
       "      <th>3</th>\n",
       "      <td>Laptop</td>\n",
       "      <td>HP</td>\n",
       "      <td>Good</td>\n",
       "      <td>4.0</td>\n",
       "    </tr>\n",
       "    <tr>\n",
       "      <th>4</th>\n",
       "      <td>Laptop</td>\n",
       "      <td>HP</td>\n",
       "      <td>Good for study but not for gaming but you can ...</td>\n",
       "      <td>4.0</td>\n",
       "    </tr>\n",
       "    <tr>\n",
       "      <th>...</th>\n",
       "      <td>...</td>\n",
       "      <td>...</td>\n",
       "      <td>...</td>\n",
       "      <td>...</td>\n",
       "    </tr>\n",
       "    <tr>\n",
       "      <th>20676</th>\n",
       "      <td>Home Theater</td>\n",
       "      <td>Obage</td>\n",
       "      <td>Bass quality</td>\n",
       "      <td>1.0</td>\n",
       "    </tr>\n",
       "    <tr>\n",
       "      <th>20677</th>\n",
       "      <td>Home Theater</td>\n",
       "      <td>Obage</td>\n",
       "      <td>quality</td>\n",
       "      <td>1.0</td>\n",
       "    </tr>\n",
       "    <tr>\n",
       "      <th>20678</th>\n",
       "      <td>Home Theater</td>\n",
       "      <td>Obage</td>\n",
       "      <td>Bad product</td>\n",
       "      <td>1.0</td>\n",
       "    </tr>\n",
       "    <tr>\n",
       "      <th>20679</th>\n",
       "      <td>Home Theater</td>\n",
       "      <td>Obage</td>\n",
       "      <td>total waste of money &amp; time</td>\n",
       "      <td>2.0</td>\n",
       "    </tr>\n",
       "    <tr>\n",
       "      <th>20680</th>\n",
       "      <td>Home Theater</td>\n",
       "      <td>Obage</td>\n",
       "      <td>Very bad quality</td>\n",
       "      <td>1.0</td>\n",
       "    </tr>\n",
       "  </tbody>\n",
       "</table>\n",
       "<p>20681 rows × 4 columns</p>\n",
       "</div>"
      ],
      "text/plain": [
       "            Product  Brand                                             Review  \\\n",
       "0            Laptop     HP  Fast, excellent battery life, fully packed. Re...   \n",
       "1            Laptop     HP  Economical product for Student needs & light w...   \n",
       "2            Laptop     HP           AFFORDABLE LAPTOP WITH GREAT PERFORMANCE   \n",
       "3            Laptop     HP                                               Good   \n",
       "4            Laptop     HP  Good for study but not for gaming but you can ...   \n",
       "...             ...    ...                                                ...   \n",
       "20676  Home Theater  Obage                                       Bass quality   \n",
       "20677  Home Theater  Obage                                            quality   \n",
       "20678  Home Theater  Obage                                        Bad product   \n",
       "20679  Home Theater  Obage                        total waste of money & time   \n",
       "20680  Home Theater  Obage                                   Very bad quality   \n",
       "\n",
       "       Rate  \n",
       "0       5.0  \n",
       "1       4.0  \n",
       "2       4.0  \n",
       "3       4.0  \n",
       "4       4.0  \n",
       "...     ...  \n",
       "20676   1.0  \n",
       "20677   1.0  \n",
       "20678   1.0  \n",
       "20679   2.0  \n",
       "20680   1.0  \n",
       "\n",
       "[20681 rows x 4 columns]"
      ]
     },
     "execution_count": 135,
     "metadata": {},
     "output_type": "execute_result"
    }
   ],
   "source": [
    "#Read excel file and convert into Dataframe\n",
    "data=pd.read_excel(r'D:\\DataTrained\\Flip Robo Technology Internship\\Rating Prediction\\ReviewPredictionData.xlsx')\n",
    "data"
   ]
  },
  {
   "cell_type": "code",
   "execution_count": 136,
   "id": "8101ed0b",
   "metadata": {},
   "outputs": [
    {
     "data": {
      "text/plain": [
       "(20681, 4)"
      ]
     },
     "execution_count": 136,
     "metadata": {},
     "output_type": "execute_result"
    }
   ],
   "source": [
    "#shape of file\n",
    "data.shape"
   ]
  },
  {
   "cell_type": "code",
   "execution_count": 137,
   "id": "65e13ff0",
   "metadata": {},
   "outputs": [
    {
     "data": {
      "text/plain": [
       "Index(['Product', 'Brand', 'Review', 'Rate'], dtype='object')"
      ]
     },
     "execution_count": 137,
     "metadata": {},
     "output_type": "execute_result"
    }
   ],
   "source": [
    "#Lets see the columns present in the dataset\n",
    "data.columns"
   ]
  },
  {
   "cell_type": "code",
   "execution_count": 138,
   "id": "9f9541f0",
   "metadata": {},
   "outputs": [
    {
     "data": {
      "text/plain": [
       "Product     object\n",
       "Brand       object\n",
       "Review      object\n",
       "Rate       float64\n",
       "dtype: object"
      ]
     },
     "execution_count": 138,
     "metadata": {},
     "output_type": "execute_result"
    }
   ],
   "source": [
    "# Checking for data types of the columns\n",
    "data.dtypes"
   ]
  },
  {
   "cell_type": "code",
   "execution_count": 139,
   "id": "4d0d0a15",
   "metadata": {},
   "outputs": [
    {
     "data": {
      "text/plain": [
       "Product    0\n",
       "Brand      0\n",
       "Review     5\n",
       "Rate       0\n",
       "dtype: int64"
      ]
     },
     "execution_count": 139,
     "metadata": {},
     "output_type": "execute_result"
    }
   ],
   "source": [
    "# Checking for null values of the columns\n",
    "data.isnull().sum()"
   ]
  },
  {
   "cell_type": "code",
   "execution_count": 140,
   "id": "512e0802",
   "metadata": {},
   "outputs": [],
   "source": [
    "# Checking for null values in object datatype columns\n",
    "\n",
    "for column in data:\n",
    "    data[column]=data[column].replace(\" \",np.nan)\n",
    "    data[column]=data[column].replace(\"-- \",np.nan)\n",
    "    data[column]=data[column].replace(\"--\",np.nan)"
   ]
  },
  {
   "cell_type": "code",
   "execution_count": 141,
   "id": "c7e5ca4a",
   "metadata": {},
   "outputs": [
    {
     "data": {
      "text/plain": [
       "Product    0\n",
       "Brand      0\n",
       "Review     5\n",
       "Rate       0\n",
       "dtype: int64"
      ]
     },
     "execution_count": 141,
     "metadata": {},
     "output_type": "execute_result"
    }
   ],
   "source": [
    "# Checking for null values\n",
    "data.isnull().sum()"
   ]
  },
  {
   "cell_type": "markdown",
   "id": "40d43cec",
   "metadata": {},
   "source": [
    "# \n",
    "As 5 rows have null values, it is safe to delete these rows"
   ]
  },
  {
   "cell_type": "code",
   "execution_count": 142,
   "id": "54985024",
   "metadata": {},
   "outputs": [],
   "source": [
    "data=data.dropna()"
   ]
  },
  {
   "cell_type": "code",
   "execution_count": 143,
   "id": "45219c69",
   "metadata": {},
   "outputs": [
    {
     "data": {
      "text/plain": [
       "(20676, 4)"
      ]
     },
     "execution_count": 143,
     "metadata": {},
     "output_type": "execute_result"
    }
   ],
   "source": [
    "#shape of file\n",
    "data.shape"
   ]
  },
  {
   "cell_type": "markdown",
   "id": "eff811ac",
   "metadata": {},
   "source": [
    "# Visualization of the Data and Encoding object data "
   ]
  },
  {
   "cell_type": "code",
   "execution_count": 144,
   "id": "754e3e8c",
   "metadata": {},
   "outputs": [
    {
     "name": "stdout",
     "output_type": "stream",
     "text": [
      "Laptop                 2848\n",
      "Headphone              2764\n",
      "Monitor                2557\n",
      "Phone                  2399\n",
      "Smartwatch             2239\n",
      "Home Theater           1999\n",
      "Router                 1999\n",
      "Professional Camera    1985\n",
      "Home Theatre           1086\n",
      "Printer                 800\n",
      "Name: Product, dtype: int64\n"
     ]
    },
    {
     "data": {
      "image/png": "[encoded data removed]",
      "text/plain": [
       "<Figure size 1800x720 with 1 Axes>"
      ]
     },
     "metadata": {
      "needs_background": "light"
     },
     "output_type": "display_data"
    }
   ],
   "source": [
    "plt.figure(figsize=(25,10))\n",
    "ax=sns.countplot(x=\"Product\", data=data)\n",
    "print(data[\"Product\"].value_counts())"
   ]
  },
  {
   "cell_type": "code",
   "execution_count": 145,
   "id": "279ccfb9",
   "metadata": {},
   "outputs": [],
   "source": [
    "#Combining Home Theatre and Home Theater\n",
    "data[\"Product\"]=data[\"Product\"].replace(\"Home Theater\", \"Home Theatre\")"
   ]
  },
  {
   "cell_type": "code",
   "execution_count": 146,
   "id": "c402dd08",
   "metadata": {},
   "outputs": [
    {
     "name": "stdout",
     "output_type": "stream",
     "text": [
      "Home Theatre           3085\n",
      "Laptop                 2848\n",
      "Headphone              2764\n",
      "Monitor                2557\n",
      "Phone                  2399\n",
      "Smartwatch             2239\n",
      "Router                 1999\n",
      "Professional Camera    1985\n",
      "Printer                 800\n",
      "Name: Product, dtype: int64\n"
     ]
    },
    {
     "data": {
      "image/png": "[encoded data removed]",
      "text/plain": [
       "<Figure size 1800x720 with 1 Axes>"
      ]
     },
     "metadata": {
      "needs_background": "light"
     },
     "output_type": "display_data"
    }
   ],
   "source": [
    "plt.figure(figsize=(25,10))\n",
    "ax=sns.countplot(x=\"Product\", data=data)\n",
    "print(data[\"Product\"].value_counts())"
   ]
  },
  {
   "cell_type": "code",
   "execution_count": 147,
   "id": "3b2b789a",
   "metadata": {},
   "outputs": [],
   "source": [
    "#Encoding string into numeric data by alphabetical order\n",
    "\n",
    "from sklearn.preprocessing import LabelEncoder\n",
    "enc=LabelEncoder()\n",
    "df=enc.fit_transform(data[\"Product\"])\n",
    "data[\"Product\"]=df"
   ]
  },
  {
   "cell_type": "code",
   "execution_count": 148,
   "id": "c675beda",
   "metadata": {},
   "outputs": [
    {
     "name": "stdout",
     "output_type": "stream",
     "text": [
      "Samsung        1340\n",
      "Zebronics      1286\n",
      "HP             1254\n",
      "Realme         1230\n",
      "Sony           1217\n",
      "Nikon           900\n",
      "Mi              878\n",
      "boAt            840\n",
      "Aroma           800\n",
      "Obage           800\n",
      "Canon           759\n",
      "Acer            610\n",
      "Apple           600\n",
      "Boult Audio     500\n",
      "One Plus        500\n",
      "JBL             434\n",
      "Dell            405\n",
      "Ambrane         400\n",
      "TP Link         400\n",
      "TP-Link         400\n",
      "Intex           400\n",
      "Tenda           399\n",
      "Procus          300\n",
      "D Link          300\n",
      "Benq            300\n",
      "LG              300\n",
      "Nokia           300\n",
      "Redmi           300\n",
      "Amazfit         300\n",
      "Fire-Boltt      300\n",
      "Oppo            300\n",
      "Xiaomi          300\n",
      "Noise           299\n",
      "Asus            277\n",
      "Lenovo          232\n",
      "Huami           200\n",
      "Cannon          107\n",
      "Epson           100\n",
      "Avita            56\n",
      "MSI              53\n",
      "Name: Brand, dtype: int64\n"
     ]
    },
    {
     "data": {
      "image/png": "[encoded data removed]",
      "text/plain": [
       "<Figure size 1800x720 with 1 Axes>"
      ]
     },
     "metadata": {
      "needs_background": "light"
     },
     "output_type": "display_data"
    }
   ],
   "source": [
    "plt.figure(figsize=(25,10))\n",
    "ax=sns.countplot(x=\"Brand\", data=data)\n",
    "print(data[\"Brand\"].value_counts())"
   ]
  },
  {
   "cell_type": "code",
   "execution_count": 149,
   "id": "1bb7c73a",
   "metadata": {},
   "outputs": [],
   "source": [
    "#Encoding string into numeric data by alphabetical order\n",
    "\n",
    "from sklearn.preprocessing import LabelEncoder\n",
    "enc=LabelEncoder()\n",
    "df=enc.fit_transform(data[\"Brand\"])\n",
    "data[\"Brand\"]=df"
   ]
  },
  {
   "cell_type": "code",
   "execution_count": 150,
   "id": "b2838b4e",
   "metadata": {},
   "outputs": [
    {
     "name": "stdout",
     "output_type": "stream",
     "text": [
      "Wonderful                              662\n",
      "Good                                   590\n",
      "Excellent                              425\n",
      "Awesome                                372\n",
      "Brilliant                              363\n",
      "                                      ... \n",
      "Identify yourself.                       1\n",
      "Good sound but no bass                   1\n",
      "Pretty Good For The Price You Pay!!      1\n",
      "Please buy this                          1\n",
      "Very bad quality                         1\n",
      "Name: Review, Length: 7957, dtype: int64\n"
     ]
    },
    {
     "data": {
      "image/png": "[encoded data removed]",
      "text/plain": [
       "<Figure size 1800x720 with 1 Axes>"
      ]
     },
     "metadata": {
      "needs_background": "light"
     },
     "output_type": "display_data"
    }
   ],
   "source": [
    "plt.figure(figsize=(25,10))\n",
    "ax=sns.countplot(x=\"Review\", data=data)\n",
    "print(data[\"Review\"].value_counts())"
   ]
  },
  {
   "cell_type": "code",
   "execution_count": 151,
   "id": "2053c5c4",
   "metadata": {},
   "outputs": [],
   "source": [
    "#Encoding string into numeric data by alphabetical order\n",
    "\n",
    "from sklearn.preprocessing import LabelEncoder\n",
    "enc=LabelEncoder()\n",
    "df=enc.fit_transform(data[\"Review\"])\n",
    "data[\"Review\"]=df"
   ]
  },
  {
   "cell_type": "code",
   "execution_count": 152,
   "id": "8803282f",
   "metadata": {},
   "outputs": [],
   "source": [
    "#Converting rate to int data type\n",
    "data[\"Rate\"]=data[\"Rate\"].astype(int)"
   ]
  },
  {
   "cell_type": "code",
   "execution_count": 153,
   "id": "715369f4",
   "metadata": {},
   "outputs": [
    {
     "name": "stdout",
     "output_type": "stream",
     "text": [
      "5    10270\n",
      "4     6058\n",
      "1     1963\n",
      "3     1891\n",
      "2      494\n",
      "Name: Rate, dtype: int64\n"
     ]
    },
    {
     "data": {
      "image/png": "[encoded data removed]",
      "text/plain": [
       "<Figure size 432x288 with 1 Axes>"
      ]
     },
     "metadata": {
      "needs_background": "light"
     },
     "output_type": "display_data"
    }
   ],
   "source": [
    "ax=sns.countplot(x=\"Rate\", data=data)\n",
    "print(data[\"Rate\"].value_counts())"
   ]
  },
  {
   "cell_type": "code",
   "execution_count": 154,
   "id": "8dbd58a4",
   "metadata": {},
   "outputs": [
    {
     "data": {
      "text/html": [
       "<div>\n",
       "<style scoped>\n",
       "    .dataframe tbody tr th:only-of-type {\n",
       "        vertical-align: middle;\n",
       "    }\n",
       "\n",
       "    .dataframe tbody tr th {\n",
       "        vertical-align: top;\n",
       "    }\n",
       "\n",
       "    .dataframe thead th {\n",
       "        text-align: right;\n",
       "    }\n",
       "</style>\n",
       "<table border=\"1\" class=\"dataframe\">\n",
       "  <thead>\n",
       "    <tr style=\"text-align: right;\">\n",
       "      <th></th>\n",
       "      <th>Product</th>\n",
       "      <th>Brand</th>\n",
       "      <th>Review</th>\n",
       "      <th>Rate</th>\n",
       "    </tr>\n",
       "  </thead>\n",
       "  <tbody>\n",
       "    <tr>\n",
       "      <th>count</th>\n",
       "      <td>20676.000000</td>\n",
       "      <td>20676.000000</td>\n",
       "      <td>20676.000000</td>\n",
       "      <td>20676.000000</td>\n",
       "    </tr>\n",
       "    <tr>\n",
       "      <th>mean</th>\n",
       "      <td>3.572403</td>\n",
       "      <td>21.969143</td>\n",
       "      <td>4153.416860</td>\n",
       "      <td>4.072645</td>\n",
       "    </tr>\n",
       "    <tr>\n",
       "      <th>std</th>\n",
       "      <td>2.645638</td>\n",
       "      <td>11.897816</td>\n",
       "      <td>2231.774986</td>\n",
       "      <td>1.238146</td>\n",
       "    </tr>\n",
       "    <tr>\n",
       "      <th>min</th>\n",
       "      <td>0.000000</td>\n",
       "      <td>0.000000</td>\n",
       "      <td>0.000000</td>\n",
       "      <td>1.000000</td>\n",
       "    </tr>\n",
       "    <tr>\n",
       "      <th>25%</th>\n",
       "      <td>1.000000</td>\n",
       "      <td>12.000000</td>\n",
       "      <td>2214.000000</td>\n",
       "      <td>4.000000</td>\n",
       "    </tr>\n",
       "    <tr>\n",
       "      <th>50%</th>\n",
       "      <td>3.000000</td>\n",
       "      <td>23.000000</td>\n",
       "      <td>4294.500000</td>\n",
       "      <td>4.000000</td>\n",
       "    </tr>\n",
       "    <tr>\n",
       "      <th>75%</th>\n",
       "      <td>6.000000</td>\n",
       "      <td>32.000000</td>\n",
       "      <td>6285.000000</td>\n",
       "      <td>5.000000</td>\n",
       "    </tr>\n",
       "    <tr>\n",
       "      <th>max</th>\n",
       "      <td>8.000000</td>\n",
       "      <td>39.000000</td>\n",
       "      <td>7956.000000</td>\n",
       "      <td>5.000000</td>\n",
       "    </tr>\n",
       "  </tbody>\n",
       "</table>\n",
       "</div>"
      ],
      "text/plain": [
       "            Product         Brand        Review          Rate\n",
       "count  20676.000000  20676.000000  20676.000000  20676.000000\n",
       "mean       3.572403     21.969143   4153.416860      4.072645\n",
       "std        2.645638     11.897816   2231.774986      1.238146\n",
       "min        0.000000      0.000000      0.000000      1.000000\n",
       "25%        1.000000     12.000000   2214.000000      4.000000\n",
       "50%        3.000000     23.000000   4294.500000      4.000000\n",
       "75%        6.000000     32.000000   6285.000000      5.000000\n",
       "max        8.000000     39.000000   7956.000000      5.000000"
      ]
     },
     "execution_count": 154,
     "metadata": {},
     "output_type": "execute_result"
    }
   ],
   "source": [
    "#Statistical Analysis\n",
    "data.describe()"
   ]
  },
  {
   "cell_type": "markdown",
   "id": "7cb02c31",
   "metadata": {},
   "source": [
    "# Checking Correlation"
   ]
  },
  {
   "cell_type": "code",
   "execution_count": 155,
   "id": "7308a24e",
   "metadata": {},
   "outputs": [
    {
     "data": {
      "image/png": "[encoded data removed]",
      "text/plain": [
       "<Figure size 1440x1440 with 2 Axes>"
      ]
     },
     "metadata": {
      "needs_background": "light"
     },
     "output_type": "display_data"
    }
   ],
   "source": [
    "#Lets view the heatmap\n",
    "corr_mat=data.corr()\n",
    "\n",
    "#size of the canvas\n",
    "plt.figure(figsize=[20,20])\n",
    "\n",
    "#plot the correlation matrix\n",
    "sns.heatmap(corr_mat,annot=True, annot_kws={'size':12})\n",
    "plt.title(\"Correlation Matrix\")\n",
    "plt.show()"
   ]
  },
  {
   "cell_type": "code",
   "execution_count": 156,
   "id": "aa993608",
   "metadata": {},
   "outputs": [
    {
     "data": {
      "text/plain": [
       "Rate       1.000000\n",
       "Product    0.027645\n",
       "Brand     -0.000810\n",
       "Review    -0.081948\n",
       "Name: Rate, dtype: float64"
      ]
     },
     "execution_count": 156,
     "metadata": {},
     "output_type": "execute_result"
    }
   ],
   "source": [
    "#Let's print the correlation coefficient for the Prediction of Rate\n",
    "\n",
    "corr_matrix=data.corr()\n",
    "corr_matrix[\"Rate\"].sort_values(ascending=False)"
   ]
  },
  {
   "cell_type": "markdown",
   "id": "e57edfa4",
   "metadata": {},
   "source": [
    "# Checking for outliers"
   ]
  },
  {
   "cell_type": "code",
   "execution_count": 157,
   "id": "cc4a0094",
   "metadata": {},
   "outputs": [
    {
     "data": {
      "text/plain": [
       "(20676, 4)"
      ]
     },
     "execution_count": 157,
     "metadata": {},
     "output_type": "execute_result"
    }
   ],
   "source": [
    "data.shape"
   ]
  },
  {
   "cell_type": "code",
   "execution_count": 158,
   "id": "674c79fd",
   "metadata": {},
   "outputs": [
    {
     "data": {
      "image/png": "[encoded data removed]",
      "text/plain": [
       "<Figure size 1440x1440 with 4 Axes>"
      ]
     },
     "metadata": {
      "needs_background": "light"
     },
     "output_type": "display_data"
    }
   ],
   "source": [
    "#visulaize the outliers using boxplot\n",
    "plt.figure(figsize=(20,20))\n",
    "graph=1\n",
    "\n",
    "for column in data:\n",
    "    if graph<=4:\n",
    "        ax=plt.subplot(2,2,graph)\n",
    "        sns.boxplot(data=data[column], orient='v')\n",
    "        plt.xlabel(column,fontsize=20)\n",
    "    graph=graph+1\n",
    "plt.show()"
   ]
  },
  {
   "cell_type": "code",
   "execution_count": 159,
   "id": "9ef23530",
   "metadata": {},
   "outputs": [
    {
     "data": {
      "text/plain": [
       "(20676, 4)"
      ]
     },
     "execution_count": 159,
     "metadata": {},
     "output_type": "execute_result"
    }
   ],
   "source": [
    "#remove outliers using zscore technique\n",
    "from scipy.stats import zscore\n",
    "import numpy as np\n",
    "z=np.abs(zscore(data))\n",
    "z.shape"
   ]
  },
  {
   "cell_type": "code",
   "execution_count": 160,
   "id": "451b10e7",
   "metadata": {},
   "outputs": [
    {
     "name": "stdout",
     "output_type": "stream",
     "text": [
      "(array([], dtype=int64), array([], dtype=int64))\n"
     ]
    }
   ],
   "source": [
    "threshold=3\n",
    "print(np.where(z>3))"
   ]
  },
  {
   "cell_type": "code",
   "execution_count": 161,
   "id": "0074b9e6",
   "metadata": {},
   "outputs": [
    {
     "name": "stdout",
     "output_type": "stream",
     "text": [
      "(20676, 4)\n",
      "(20676, 4)\n"
     ]
    }
   ],
   "source": [
    "data_new=data[(z<3).all(axis=1)]\n",
    "print(data.shape)\n",
    "print(data_new.shape)"
   ]
  },
  {
   "cell_type": "markdown",
   "id": "3121d222",
   "metadata": {},
   "source": [
    "# \n",
    "As the data loss is 0%, outlier are removed"
   ]
  },
  {
   "cell_type": "markdown",
   "id": "a2f41159",
   "metadata": {},
   "source": [
    "# Divide Data Set into features and labels"
   ]
  },
  {
   "cell_type": "code",
   "execution_count": 162,
   "id": "faec2a78",
   "metadata": {},
   "outputs": [],
   "source": [
    "y=data_new['Rate']\n",
    "x=data_new.drop(columns=['Rate'])"
   ]
  },
  {
   "cell_type": "markdown",
   "id": "4e5793a3",
   "metadata": {},
   "source": [
    "# Visualizing Relationship"
   ]
  },
  {
   "cell_type": "code",
   "execution_count": 163,
   "id": "81e9448b",
   "metadata": {},
   "outputs": [
    {
     "data": {
      "image/png": "[encoded data removed]",
      "text/plain": [
       "<Figure size 1440x1440 with 3 Axes>"
      ]
     },
     "metadata": {
      "needs_background": "light"
     },
     "output_type": "display_data"
    }
   ],
   "source": [
    "plt.figure(figsize=(20,20))\n",
    "plotnumber=1\n",
    "\n",
    "for column in x:\n",
    "    if plotnumber<=4:\n",
    "        ax=plt.subplot(2,2,plotnumber)\n",
    "        plt.scatter(x[column],y)\n",
    "        plt.xlabel(column,fontsize=20)\n",
    "        plt.ylabel('Rate', fontsize=20)\n",
    "    plotnumber=plotnumber+1\n",
    "plt.tight_layout()"
   ]
  },
  {
   "cell_type": "markdown",
   "id": "23c52c3b",
   "metadata": {},
   "source": [
    "# Checking for skewness"
   ]
  },
  {
   "cell_type": "code",
   "execution_count": 164,
   "id": "fbf349c4",
   "metadata": {},
   "outputs": [
    {
     "data": {
      "text/plain": [
       "Product    0.302151\n",
       "Review    -0.047409\n",
       "Brand     -0.313749\n",
       "dtype: float64"
      ]
     },
     "execution_count": 164,
     "metadata": {},
     "output_type": "execute_result"
    }
   ],
   "source": [
    "x.skew().sort_values(ascending=False)"
   ]
  },
  {
   "cell_type": "markdown",
   "id": "3afabb17",
   "metadata": {},
   "source": [
    "# Transforming Data to remove skewness"
   ]
  },
  {
   "cell_type": "code",
   "execution_count": 165,
   "id": "f6ba9e8a",
   "metadata": {},
   "outputs": [],
   "source": [
    "from sklearn.preprocessing import power_transform\n",
    "x_n=power_transform(x)"
   ]
  },
  {
   "cell_type": "code",
   "execution_count": 166,
   "id": "81223092",
   "metadata": {},
   "outputs": [
    {
     "data": {
      "text/plain": [
       "Product   -0.122376\n",
       "Review    -0.258296\n",
       "Brand     -0.379717\n",
       "dtype: float64"
      ]
     },
     "execution_count": 166,
     "metadata": {},
     "output_type": "execute_result"
    }
   ],
   "source": [
    "#Checking if skewness was rectified\n",
    "x_skew=pd.DataFrame(x_n, columns=x.columns)\n",
    "x_skew.skew().sort_values(ascending=False)"
   ]
  },
  {
   "cell_type": "markdown",
   "id": "6be40ac1",
   "metadata": {},
   "source": [
    "# Scaling the data"
   ]
  },
  {
   "cell_type": "code",
   "execution_count": 167,
   "id": "8f0110a0",
   "metadata": {},
   "outputs": [],
   "source": [
    "scaler=StandardScaler()\n",
    "X_scaled=scaler.fit_transform(x_skew)"
   ]
  },
  {
   "cell_type": "markdown",
   "id": "4df3df6f",
   "metadata": {},
   "source": [
    "# Splitting data into train and test data"
   ]
  },
  {
   "cell_type": "code",
   "execution_count": 168,
   "id": "b3954b3e",
   "metadata": {},
   "outputs": [
    {
     "name": "stdout",
     "output_type": "stream",
     "text": [
      "accuracy 0.4920212765957447 random_state 0\n",
      "accuracy 0.4920212765957447 random_state 0\n",
      "accuracy 0.4932301740812379 random_state 1\n",
      "accuracy 0.4932301740812379 random_state 1\n",
      "accuracy 0.488394584139265 random_state 2\n",
      "accuracy 0.5070116054158608 random_state 3\n",
      "accuracy 0.5070116054158608 random_state 3\n",
      "accuracy 0.500725338491296 random_state 4\n",
      "accuracy 0.4879110251450677 random_state 5\n",
      "accuracy 0.4915377176015474 random_state 6\n",
      "accuracy 0.4920212765957447 random_state 7\n",
      "accuracy 0.4937137330754352 random_state 8\n",
      "accuracy 0.48936170212765956 random_state 9\n",
      "accuracy 0.49347195357833656 random_state 10\n",
      "accuracy 0.4864603481624758 random_state 11\n",
      "accuracy 0.4828336557059961 random_state 12\n",
      "accuracy 0.4961315280464217 random_state 13\n",
      "accuracy 0.4946808510638298 random_state 14\n",
      "accuracy 0.48694390715667313 random_state 15\n",
      "accuracy 0.5012088974854932 random_state 16\n",
      "accuracy 0.49709864603481624 random_state 17\n",
      "accuracy 0.49250483558994196 random_state 18\n",
      "accuracy 0.48694390715667313 random_state 19\n",
      "accuracy 0.4995164410058027 random_state 20\n",
      "accuracy 0.48138297872340424 random_state 21\n",
      "accuracy 0.5019342359767892 random_state 22\n",
      "accuracy 0.4927466150870406 random_state 23\n",
      "accuracy 0.4789651837524178 random_state 24\n",
      "accuracy 0.500725338491296 random_state 25\n",
      "accuracy 0.5045938104448743 random_state 26\n",
      "accuracy 0.49395551257253384 random_state 27\n",
      "accuracy 0.4992746615087041 random_state 28\n",
      "accuracy 0.4941972920696325 random_state 29\n",
      "accuracy 0.4922630560928433 random_state 30\n",
      "accuracy 0.503384912959381 random_state 31\n",
      "accuracy 0.49492263056092844 random_state 32\n",
      "accuracy 0.49806576402321084 random_state 33\n",
      "accuracy 0.5072533849129593 random_state 34\n",
      "accuracy 0.5072533849129593 random_state 34\n",
      "accuracy 0.5031431334622823 random_state 35\n",
      "accuracy 0.4973404255319149 random_state 36\n",
      "accuracy 0.4975822050290135 random_state 37\n",
      "accuracy 0.5002417794970987 random_state 38\n",
      "accuracy 0.4961315280464217 random_state 39\n",
      "accuracy 0.4874274661508704 random_state 40\n",
      "accuracy 0.4937137330754352 random_state 41\n",
      "accuracy 0.4927466150870406 random_state 42\n",
      "accuracy 0.4937137330754352 random_state 43\n",
      "accuracy 0.4954061895551257 random_state 44\n",
      "accuracy 0.4937137330754352 random_state 45\n",
      "accuracy 0.4879110251450677 random_state 46\n",
      "accuracy 0.48936170212765956 random_state 47\n",
      "accuracy 0.4992746615087041 random_state 48\n",
      "accuracy 0.4905705996131528 random_state 49\n",
      "accuracy 0.49347195357833656 random_state 50\n",
      "accuracy 0.4992746615087041 random_state 51\n",
      "accuracy 0.504110251450677 random_state 52\n",
      "accuracy 0.4929883945841393 random_state 53\n",
      "accuracy 0.48815280464216637 random_state 54\n",
      "accuracy 0.5043520309477756 random_state 55\n",
      "accuracy 0.48863636363636365 random_state 56\n",
      "accuracy 0.488394584139265 random_state 57\n",
      "accuracy 0.4954061895551257 random_state 58\n",
      "accuracy 0.49177949709864605 random_state 59\n",
      "accuracy 0.4905705996131528 random_state 60\n",
      "accuracy 0.4983075435203095 random_state 61\n",
      "accuracy 0.4961315280464217 random_state 62\n",
      "accuracy 0.4927466150870406 random_state 63\n",
      "accuracy 0.4891199226305609 random_state 64\n",
      "accuracy 0.5067698259187621 random_state 65\n",
      "accuracy 0.49032882011605416 random_state 66\n",
      "accuracy 0.49492263056092844 random_state 67\n",
      "accuracy 0.4983075435203095 random_state 68\n",
      "accuracy 0.5 random_state 69\n",
      "accuracy 0.5012088974854932 random_state 70\n",
      "accuracy 0.49492263056092844 random_state 71\n",
      "accuracy 0.49081237911025144 random_state 72\n",
      "accuracy 0.49975822050290136 random_state 73\n",
      "accuracy 0.495889748549323 random_state 74\n",
      "accuracy 0.4912959381044487 random_state 75\n",
      "accuracy 0.4922630560928433 random_state 76\n",
      "accuracy 0.5036266924564797 random_state 77\n",
      "accuracy 0.4961315280464217 random_state 78\n",
      "accuracy 0.49395551257253384 random_state 79\n",
      "accuracy 0.500725338491296 random_state 80\n",
      "accuracy 0.4929883945841393 random_state 81\n",
      "accuracy 0.5004835589941973 random_state 82\n",
      "accuracy 0.4888781431334623 random_state 83\n",
      "accuracy 0.4937137330754352 random_state 84\n",
      "accuracy 0.4941972920696325 random_state 85\n",
      "accuracy 0.5004835589941973 random_state 86\n",
      "accuracy 0.5021760154738878 random_state 87\n",
      "accuracy 0.49661508704061896 random_state 88\n",
      "accuracy 0.500725338491296 random_state 89\n",
      "accuracy 0.49709864603481624 random_state 90\n",
      "accuracy 0.5019342359767892 random_state 91\n",
      "accuracy 0.4794487427466151 random_state 92\n",
      "accuracy 0.48621856866537716 random_state 93\n",
      "accuracy 0.488394584139265 random_state 94\n",
      "accuracy 0.4929883945841393 random_state 95\n",
      "accuracy 0.4920212765957447 random_state 96\n",
      "accuracy 0.4920212765957447 random_state 97\n",
      "accuracy 0.4968568665377176 random_state 98\n",
      "accuracy 0.49492263056092844 random_state 99\n",
      "accuracy 0.5002417794970987 random_state 100\n",
      "accuracy 0.4927466150870406 random_state 101\n",
      "accuracy 0.4995164410058027 random_state 102\n",
      "accuracy 0.4784816247582205 random_state 103\n",
      "accuracy 0.4927466150870406 random_state 104\n",
      "accuracy 0.49975822050290136 random_state 105\n",
      "accuracy 0.49492263056092844 random_state 106\n",
      "accuracy 0.48718568665377177 random_state 107\n",
      "accuracy 0.4946808510638298 random_state 108\n",
      "accuracy 0.5079787234042553 random_state 109\n",
      "accuracy 0.5079787234042553 random_state 109\n",
      "accuracy 0.4833172147001934 random_state 110\n",
      "accuracy 0.504110251450677 random_state 111\n",
      "accuracy 0.49879110251450676 random_state 112\n",
      "accuracy 0.49032882011605416 random_state 113\n",
      "accuracy 0.49347195357833656 random_state 114\n",
      "accuracy 0.4874274661508704 random_state 115\n",
      "accuracy 0.4927466150870406 random_state 116\n",
      "accuracy 0.5019342359767892 random_state 117\n",
      "accuracy 0.4975822050290135 random_state 118\n",
      "accuracy 0.48815280464216637 random_state 119\n",
      "accuracy 0.5 random_state 120\n",
      "accuracy 0.5002417794970987 random_state 121\n",
      "accuracy 0.4905705996131528 random_state 122\n",
      "accuracy 0.4978239845261122 random_state 123\n",
      "accuracy 0.49879110251450676 random_state 124\n",
      "accuracy 0.4978239845261122 random_state 125\n",
      "accuracy 0.49177949709864605 random_state 126\n",
      "accuracy 0.49709864603481624 random_state 127\n",
      "accuracy 0.48452611218568664 random_state 128\n",
      "accuracy 0.48863636363636365 random_state 129\n",
      "accuracy 0.4818665377176016 random_state 130\n",
      "accuracy 0.5038684719535783 random_state 131\n",
      "accuracy 0.4818665377176016 random_state 132\n",
      "accuracy 0.48718568665377177 random_state 133\n",
      "accuracy 0.4968568665377176 random_state 134\n",
      "accuracy 0.4985493230174081 random_state 135\n",
      "accuracy 0.49347195357833656 random_state 136\n",
      "accuracy 0.48766924564796904 random_state 137\n",
      "accuracy 0.49564796905222436 random_state 138\n",
      "accuracy 0.4973404255319149 random_state 139\n",
      "accuracy 0.5012088974854932 random_state 140\n",
      "accuracy 0.48718568665377177 random_state 141\n",
      "accuracy 0.4963733075435203 random_state 142\n",
      "accuracy 0.488394584139265 random_state 143\n",
      "accuracy 0.4951644100580271 random_state 144\n",
      "accuracy 0.4941972920696325 random_state 145\n",
      "accuracy 0.4941972920696325 random_state 146\n",
      "accuracy 0.48694390715667313 random_state 147\n",
      "accuracy 0.5036266924564797 random_state 148\n",
      "accuracy 0.48138297872340424 random_state 149\n",
      "accuracy 0.49879110251450676 random_state 150\n",
      "accuracy 0.4833172147001934 random_state 151\n",
      "accuracy 0.49250483558994196 random_state 152\n",
      "accuracy 0.49661508704061896 random_state 153\n",
      "accuracy 0.5 random_state 154\n",
      "accuracy 0.4995164410058027 random_state 155\n",
      "accuracy 0.48936170212765956 random_state 156\n",
      "accuracy 0.49081237911025144 random_state 157\n",
      "accuracy 0.49347195357833656 random_state 158\n",
      "accuracy 0.4900870406189555 random_state 159\n",
      "accuracy 0.4954061895551257 random_state 160\n",
      "accuracy 0.4983075435203095 random_state 161\n",
      "accuracy 0.4900870406189555 random_state 162\n",
      "accuracy 0.488394584139265 random_state 163\n",
      "accuracy 0.49709864603481624 random_state 164\n",
      "accuracy 0.4992746615087041 random_state 165\n",
      "accuracy 0.4944390715667311 random_state 166\n",
      "accuracy 0.49492263056092844 random_state 167\n",
      "accuracy 0.4932301740812379 random_state 168\n",
      "accuracy 0.4804158607350097 random_state 169\n",
      "accuracy 0.4896034816247582 random_state 170\n",
      "accuracy 0.4859767891682785 random_state 171\n",
      "accuracy 0.48863636363636365 random_state 172\n",
      "accuracy 0.4927466150870406 random_state 173\n",
      "accuracy 0.4932301740812379 random_state 174\n",
      "accuracy 0.4915377176015474 random_state 175\n",
      "accuracy 0.48718568665377177 random_state 176\n",
      "accuracy 0.4905705996131528 random_state 177\n",
      "accuracy 0.503384912959381 random_state 178\n",
      "accuracy 0.4864603481624758 random_state 179\n",
      "accuracy 0.49492263056092844 random_state 180\n",
      "accuracy 0.49032882011605416 random_state 181\n",
      "accuracy 0.5065280464216635 random_state 182\n",
      "accuracy 0.5026595744680851 random_state 183\n",
      "accuracy 0.48404255319148937 random_state 184\n",
      "accuracy 0.5012088974854932 random_state 185\n",
      "accuracy 0.48500967117988397 random_state 186\n",
      "accuracy 0.49032882011605416 random_state 187\n",
      "accuracy 0.49032882011605416 random_state 188\n",
      "accuracy 0.5060444874274661 random_state 189\n",
      "accuracy 0.4796905222437137 random_state 190\n",
      "accuracy 0.4864603481624758 random_state 191\n",
      "accuracy 0.4929883945841393 random_state 192\n",
      "accuracy 0.5016924564796905 random_state 193\n",
      "accuracy 0.4983075435203095 random_state 194\n",
      "accuracy 0.48766924564796904 random_state 195\n",
      "accuracy 0.4852514506769826 random_state 196\n",
      "accuracy 0.49032882011605416 random_state 197\n",
      "accuracy 0.4944390715667311 random_state 198\n",
      "accuracy 0.4898452611218569 random_state 199\n"
     ]
    }
   ],
   "source": [
    "from sklearn.model_selection import train_test_split\n",
    "from sklearn.linear_model import LogisticRegression\n",
    "from sklearn.metrics import accuracy_score\n",
    "from sklearn.metrics import confusion_matrix, classification_report\n",
    "\n",
    "maxAccu=0     #maximum accuracy\n",
    "maxRS=0       #best random state\n",
    "\n",
    "#Finding Best random state\n",
    "for i in range(0,200):\n",
    "    x_train, x_test, y_train, y_test= train_test_split(X_scaled, y, test_size=0.2, random_state=i)\n",
    "    LR=LogisticRegression()\n",
    "    LR.fit(x_train, y_train)                #fitting the data will train the model\n",
    "    predrf=LR.predict(x_test)               #this is the predicted target variable\n",
    "    acc=accuracy_score(y_test, predrf)      #accuracy score\n",
    "    print('accuracy', acc, 'random_state', i)\n",
    "    \n",
    "    if acc>maxAccu:\n",
    "        maxAccu=acc\n",
    "        maxRS=i\n",
    "        print('accuracy', maxAccu, 'random_state', i)"
   ]
  },
  {
   "cell_type": "code",
   "execution_count": 169,
   "id": "7f2737d1",
   "metadata": {},
   "outputs": [],
   "source": [
    "#creating train-test-split using best random state observed(i.e.3)\n",
    "x_train, x_test, y_train, y_test= train_test_split(X_scaled, y, test_size=0.2, random_state=3)"
   ]
  },
  {
   "cell_type": "markdown",
   "id": "30332869",
   "metadata": {},
   "source": [
    "# Using Logistic Regression Model"
   ]
  },
  {
   "cell_type": "code",
   "execution_count": 170,
   "id": "22601172",
   "metadata": {},
   "outputs": [
    {
     "name": "stdout",
     "output_type": "stream",
     "text": [
      "Accuracy  50.70116054158608\n",
      "[[   0    0    0   28  352]\n",
      " [   0    0    0    6   88]\n",
      " [   0    0    0   17  363]\n",
      " [   0    0    0  134 1041]\n",
      " [   0    0    0  144 1963]]\n",
      "              precision    recall  f1-score   support\n",
      "\n",
      "           1       0.00      0.00      0.00       380\n",
      "           2       0.00      0.00      0.00        94\n",
      "           3       0.00      0.00      0.00       380\n",
      "           4       0.41      0.11      0.18      1175\n",
      "           5       0.52      0.93      0.66      2107\n",
      "\n",
      "    accuracy                           0.51      4136\n",
      "   macro avg       0.18      0.21      0.17      4136\n",
      "weighted avg       0.38      0.51      0.39      4136\n",
      "\n"
     ]
    }
   ],
   "source": [
    "LR=LogisticRegression()\n",
    "LR.fit(x_train, y_train)                \n",
    "predlr=LR.predict(x_test)               \n",
    "print(\"Accuracy \",accuracy_score(y_test, predlr)*100)      #accuracy score\n",
    "print(confusion_matrix(y_test,predlr))\n",
    "print(classification_report(y_test,predlr))"
   ]
  },
  {
   "cell_type": "markdown",
   "id": "1c43eac4",
   "metadata": {},
   "source": [
    "# Using KNeighbors Classifier Model"
   ]
  },
  {
   "cell_type": "code",
   "execution_count": 171,
   "id": "7fe1f5e2",
   "metadata": {},
   "outputs": [
    {
     "name": "stdout",
     "output_type": "stream",
     "text": [
      "Accuracy  70.67214700193423\n",
      "[[ 267    0   21   39   53]\n",
      " [  14   19    8   17   36]\n",
      " [  26    5  152  123   74]\n",
      " [  30    2   85  794  264]\n",
      " [  51   10   58  297 1691]]\n",
      "              precision    recall  f1-score   support\n",
      "\n",
      "           1       0.69      0.70      0.70       380\n",
      "           2       0.53      0.20      0.29        94\n",
      "           3       0.47      0.40      0.43       380\n",
      "           4       0.63      0.68      0.65      1175\n",
      "           5       0.80      0.80      0.80      2107\n",
      "\n",
      "    accuracy                           0.71      4136\n",
      "   macro avg       0.62      0.56      0.57      4136\n",
      "weighted avg       0.70      0.71      0.70      4136\n",
      "\n"
     ]
    }
   ],
   "source": [
    "from sklearn.neighbors import KNeighborsClassifier\n",
    "\n",
    "kn=KNeighborsClassifier()\n",
    "kn.fit(x_train, y_train)\n",
    "predkn=kn.predict(x_test)\n",
    "print(\"Accuracy \",accuracy_score(y_test, predkn)*100)      #accuracy score\n",
    "print(confusion_matrix(y_test,predkn))\n",
    "print(classification_report(y_test,predkn))"
   ]
  },
  {
   "cell_type": "markdown",
   "id": "0c6ebb41",
   "metadata": {},
   "source": [
    "# Using Decision Tree Classifier"
   ]
  },
  {
   "cell_type": "code",
   "execution_count": 172,
   "id": "ede9ae61",
   "metadata": {},
   "outputs": [
    {
     "name": "stdout",
     "output_type": "stream",
     "text": [
      "Accuracy  73.67021276595744\n",
      "[[ 306   10   13   21   30]\n",
      " [  13   52    9    5   15]\n",
      " [  22   10  199  100   49]\n",
      " [  16   12   92  785  270]\n",
      " [  34    6   60  302 1705]]\n",
      "              precision    recall  f1-score   support\n",
      "\n",
      "           1       0.78      0.81      0.79       380\n",
      "           2       0.58      0.55      0.57        94\n",
      "           3       0.53      0.52      0.53       380\n",
      "           4       0.65      0.67      0.66      1175\n",
      "           5       0.82      0.81      0.82      2107\n",
      "\n",
      "    accuracy                           0.74      4136\n",
      "   macro avg       0.67      0.67      0.67      4136\n",
      "weighted avg       0.74      0.74      0.74      4136\n",
      "\n"
     ]
    }
   ],
   "source": [
    "from sklearn.tree import DecisionTreeClassifier\n",
    "\n",
    "dt=DecisionTreeClassifier()\n",
    "dt.fit(x_train, y_train)\n",
    "preddt=dt.predict(x_test)\n",
    "print(\"Accuracy \",accuracy_score(y_test, preddt)*100)      #accuracy score\n",
    "print(confusion_matrix(y_test,preddt))\n",
    "print(classification_report(y_test,preddt))"
   ]
  },
  {
   "cell_type": "markdown",
   "id": "517176b6",
   "metadata": {},
   "source": [
    "# Using Random Forest Classifier"
   ]
  },
  {
   "cell_type": "code",
   "execution_count": 173,
   "id": "57586149",
   "metadata": {},
   "outputs": [
    {
     "name": "stdout",
     "output_type": "stream",
     "text": [
      "Accuracy  73.21083172147002\n",
      "[[ 293    5   16   26   40]\n",
      " [  11   50    7   11   15]\n",
      " [  17    9  195  101   58]\n",
      " [  19   16   85  769  286]\n",
      " [  29    4   60  293 1721]]\n",
      "              precision    recall  f1-score   support\n",
      "\n",
      "           1       0.79      0.77      0.78       380\n",
      "           2       0.60      0.53      0.56        94\n",
      "           3       0.54      0.51      0.52       380\n",
      "           4       0.64      0.65      0.65      1175\n",
      "           5       0.81      0.82      0.81      2107\n",
      "\n",
      "    accuracy                           0.73      4136\n",
      "   macro avg       0.68      0.66      0.67      4136\n",
      "weighted avg       0.73      0.73      0.73      4136\n",
      "\n"
     ]
    }
   ],
   "source": [
    "from sklearn.ensemble import RandomForestClassifier\n",
    "\n",
    "rf=RandomForestClassifier()\n",
    "rf.fit(x_train, y_train)\n",
    "predrf=rf.predict(x_test)\n",
    "print(\"Accuracy \",accuracy_score(y_test, predrf)*100)      #accuracy score\n",
    "print(confusion_matrix(y_test,predrf))\n",
    "print(classification_report(y_test,predrf))"
   ]
  },
  {
   "cell_type": "markdown",
   "id": "7f5e2360",
   "metadata": {},
   "source": [
    "# Using AdaBoost Classifier"
   ]
  },
  {
   "cell_type": "code",
   "execution_count": 174,
   "id": "1bc1c3c9",
   "metadata": {},
   "outputs": [
    {
     "name": "stdout",
     "output_type": "stream",
     "text": [
      "Accuracy  57.51934235976789\n",
      "[[  72    0    6   73  229]\n",
      " [   2    0    0    9   83]\n",
      " [   7    0   14   91  268]\n",
      " [  18    0    4  379  774]\n",
      " [  17    0    1  175 1914]]\n",
      "              precision    recall  f1-score   support\n",
      "\n",
      "           1       0.62      0.19      0.29       380\n",
      "           2       0.00      0.00      0.00        94\n",
      "           3       0.56      0.04      0.07       380\n",
      "           4       0.52      0.32      0.40      1175\n",
      "           5       0.59      0.91      0.71      2107\n",
      "\n",
      "    accuracy                           0.58      4136\n",
      "   macro avg       0.46      0.29      0.29      4136\n",
      "weighted avg       0.55      0.58      0.51      4136\n",
      "\n"
     ]
    }
   ],
   "source": [
    "from sklearn.ensemble import AdaBoostClassifier\n",
    "\n",
    "ada=AdaBoostClassifier()\n",
    "ada.fit(x_train, y_train)\n",
    "predada=ada.predict(x_test)\n",
    "print(\"Accuracy \",accuracy_score(y_test, predada)*100)      #accuracy score\n",
    "print(confusion_matrix(y_test,predada))\n",
    "print(classification_report(y_test,predada))"
   ]
  },
  {
   "cell_type": "markdown",
   "id": "9f1a8d19",
   "metadata": {},
   "source": [
    "# Using Gradient Boosting Classifier"
   ]
  },
  {
   "cell_type": "code",
   "execution_count": 175,
   "id": "dcb2b713",
   "metadata": {},
   "outputs": [
    {
     "name": "stdout",
     "output_type": "stream",
     "text": [
      "Accuracy  74.75822050290135\n",
      "[[ 268    4    0   13   95]\n",
      " [   5   49    2   16   22]\n",
      " [   9    3  129  136  103]\n",
      " [   6    2   13  801  353]\n",
      " [  10    0   14  238 1845]]\n",
      "              precision    recall  f1-score   support\n",
      "\n",
      "           1       0.90      0.71      0.79       380\n",
      "           2       0.84      0.52      0.64        94\n",
      "           3       0.82      0.34      0.48       380\n",
      "           4       0.67      0.68      0.67      1175\n",
      "           5       0.76      0.88      0.82      2107\n",
      "\n",
      "    accuracy                           0.75      4136\n",
      "   macro avg       0.80      0.62      0.68      4136\n",
      "weighted avg       0.75      0.75      0.74      4136\n",
      "\n"
     ]
    }
   ],
   "source": [
    "from sklearn.ensemble import GradientBoostingClassifier\n",
    "\n",
    "gbdt= GradientBoostingClassifier()\n",
    "gbdt.fit(x_train, y_train)\n",
    "gbdt_pred=gbdt.predict(x_test)\n",
    "print(\"Accuracy \",accuracy_score(y_test, gbdt_pred)*100)      #accuracy score\n",
    "print(confusion_matrix(y_test,gbdt_pred))\n",
    "print(classification_report(y_test,gbdt_pred))"
   ]
  },
  {
   "cell_type": "markdown",
   "id": "ad05e145",
   "metadata": {},
   "source": [
    "# Using SVC"
   ]
  },
  {
   "cell_type": "code",
   "execution_count": 176,
   "id": "0053d8e8",
   "metadata": {},
   "outputs": [
    {
     "name": "stdout",
     "output_type": "stream",
     "text": [
      "Accuracy  54.61798839458414\n",
      "[[   0    0    0   19  361]\n",
      " [   0    0    0    5   89]\n",
      " [   0    0    0   60  320]\n",
      " [   0    0    0  259  916]\n",
      " [   0    0    0  107 2000]]\n",
      "              precision    recall  f1-score   support\n",
      "\n",
      "           1       0.00      0.00      0.00       380\n",
      "           2       0.00      0.00      0.00        94\n",
      "           3       0.00      0.00      0.00       380\n",
      "           4       0.58      0.22      0.32      1175\n",
      "           5       0.54      0.95      0.69      2107\n",
      "\n",
      "    accuracy                           0.55      4136\n",
      "   macro avg       0.22      0.23      0.20      4136\n",
      "weighted avg       0.44      0.55      0.44      4136\n",
      "\n"
     ]
    }
   ],
   "source": [
    "from sklearn.svm import SVC\n",
    "\n",
    "svc=SVC()\n",
    "svc.fit(x_train, y_train)\n",
    "ad_pred=svc.predict(x_test)\n",
    "print(\"Accuracy \",accuracy_score(y_test, ad_pred)*100)      #accuracy score\n",
    "print(confusion_matrix(y_test,ad_pred))\n",
    "print(classification_report(y_test,ad_pred))"
   ]
  },
  {
   "cell_type": "markdown",
   "id": "bc43350b",
   "metadata": {},
   "source": [
    "# Cross Validation"
   ]
  },
  {
   "cell_type": "code",
   "execution_count": 177,
   "id": "02b9af7c",
   "metadata": {},
   "outputs": [
    {
     "name": "stdout",
     "output_type": "stream",
     "text": [
      "Cross validation score of Logistic Regression:  0.48636050229325073\n"
     ]
    }
   ],
   "source": [
    "from sklearn.model_selection import cross_val_score\n",
    "\n",
    "#validation accuracy\n",
    "scr=cross_val_score(LR,x,y,cv=5)\n",
    "print(\"Cross validation score of Logistic Regression: \", scr.mean())"
   ]
  },
  {
   "cell_type": "code",
   "execution_count": 178,
   "id": "db612412",
   "metadata": {},
   "outputs": [
    {
     "name": "stdout",
     "output_type": "stream",
     "text": [
      "Cross validation score of KNeighbor Classifier:  0.6687013020425251\n"
     ]
    }
   ],
   "source": [
    "scr2=cross_val_score(kn,x,y,cv=5)\n",
    "print(\"Cross validation score of KNeighbor Classifier: \", scr2.mean())"
   ]
  },
  {
   "cell_type": "code",
   "execution_count": 179,
   "id": "651b920d",
   "metadata": {},
   "outputs": [
    {
     "name": "stdout",
     "output_type": "stream",
     "text": [
      "Cross validation score of Decision Tree Classifier:  0.5379672162204514\n"
     ]
    }
   ],
   "source": [
    "scr3=cross_val_score(dt,x,y,cv=5)\n",
    "print(\"Cross validation score of Decision Tree Classifier: \", scr3.mean())"
   ]
  },
  {
   "cell_type": "code",
   "execution_count": 180,
   "id": "2c7e1396",
   "metadata": {},
   "outputs": [
    {
     "name": "stdout",
     "output_type": "stream",
     "text": [
      "Cross validation score of Random Forest Classifier:  0.3148126457401201\n"
     ]
    }
   ],
   "source": [
    "scr4=cross_val_score(rf,x,y,cv=5)\n",
    "print(\"Cross validation score of Random Forest Classifier: \", scr4.mean())"
   ]
  },
  {
   "cell_type": "code",
   "execution_count": 181,
   "id": "ce1300a0",
   "metadata": {},
   "outputs": [
    {
     "name": "stdout",
     "output_type": "stream",
     "text": [
      "Cross validation score of Ada Boost Classifier:  0.4732042478348017\n"
     ]
    }
   ],
   "source": [
    "scr5=cross_val_score(ada,x,y,cv=5)\n",
    "print(\"Cross validation score of Ada Boost Classifier: \", scr5.mean())"
   ]
  },
  {
   "cell_type": "code",
   "execution_count": 182,
   "id": "d9e9eb48",
   "metadata": {},
   "outputs": [
    {
     "name": "stdout",
     "output_type": "stream",
     "text": [
      "Cross validation score of Gradient Boost Classifier:  0.5855564261306625\n"
     ]
    }
   ],
   "source": [
    "scr6=cross_val_score(gbdt,x,y,cv=5)\n",
    "print(\"Cross validation score of Gradient Boost Classifier: \", scr6.mean())"
   ]
  },
  {
   "cell_type": "code",
   "execution_count": 183,
   "id": "71c14ae6",
   "metadata": {},
   "outputs": [
    {
     "name": "stdout",
     "output_type": "stream",
     "text": [
      "Cross validation score of SVC model:  0.49671116734766435\n"
     ]
    }
   ],
   "source": [
    "scr7=cross_val_score(svc,x,y,cv=5)\n",
    "print(\"Cross validation score of SVC model: \", scr7.mean())"
   ]
  },
  {
   "cell_type": "markdown",
   "id": "b1f2f51e",
   "metadata": {},
   "source": [
    "\n",
    "Gradient Boosting Classifier is performing better, hence it is carried forward"
   ]
  },
  {
   "cell_type": "markdown",
   "id": "feb2174f",
   "metadata": {},
   "source": [
    "# Hyper Parameter Tuning"
   ]
  },
  {
   "cell_type": "code",
   "execution_count": 186,
   "id": "1b139b13",
   "metadata": {},
   "outputs": [
    {
     "data": {
      "text/plain": [
       "KNeighborsClassifier()"
      ]
     },
     "execution_count": 186,
     "metadata": {},
     "output_type": "execute_result"
    }
   ],
   "source": [
    "KNeighborsClassifier()"
   ]
  },
  {
   "cell_type": "code",
   "execution_count": 190,
   "id": "a2819c93",
   "metadata": {},
   "outputs": [
    {
     "data": {
      "text/plain": [
       "{'algorithm': 'brute'}"
      ]
     },
     "execution_count": 190,
     "metadata": {},
     "output_type": "execute_result"
    }
   ],
   "source": [
    "from sklearn.model_selection import GridSearchCV\n",
    "\n",
    "#Creating parameter list to pass in GridSearchCV\n",
    "parameters={'algorithm':['kd-tree', 'brute']}\n",
    "\n",
    "grid=GridSearchCV(KNeighborsClassifier(), param_grid=parameters)\n",
    "grid.fit(x_train, y_train)\n",
    "grid.best_params_"
   ]
  },
  {
   "cell_type": "code",
   "execution_count": 191,
   "id": "6803ebf9",
   "metadata": {},
   "outputs": [
    {
     "data": {
      "text/plain": [
       "KNeighborsClassifier(algorithm='brute')"
      ]
     },
     "execution_count": 191,
     "metadata": {},
     "output_type": "execute_result"
    }
   ],
   "source": [
    "grid.best_estimator_"
   ]
  },
  {
   "cell_type": "code",
   "execution_count": 192,
   "id": "438c67b5",
   "metadata": {},
   "outputs": [
    {
     "data": {
      "text/plain": [
       "0.7055125725338491"
      ]
     },
     "execution_count": 192,
     "metadata": {},
     "output_type": "execute_result"
    }
   ],
   "source": [
    "grid_pred=grid.best_estimator_.predict(x_test)        #Predicting with best parameters\n",
    "accuracy_score(y_test,grid_pred) "
   ]
  },
  {
   "cell_type": "markdown",
   "id": "c010d5ba",
   "metadata": {},
   "source": [
    "# \n",
    "Final Accuracy is 70.55 which depicts that our model is working well"
   ]
  },
  {
   "cell_type": "code",
   "execution_count": null,
   "id": "3749a4b1",
   "metadata": {},
   "outputs": [],
   "source": []
  }
 ],
 "metadata": {
  "kernelspec": {
   "display_name": "Python 3 (ipykernel)",
   "language": "python",
   "name": "python3"
  },
  "language_info": {
   "codemirror_mode": {
    "name": "ipython",
    "version": 3
   },
   "file_extension": ".py",
   "mimetype": "text/x-python",
   "name": "python",
   "nbconvert_exporter": "python",
   "pygments_lexer": "ipython3",
   "version": "3.9.7"
  }
 },
 "nbformat": 4,
 "nbformat_minor": 5
}
